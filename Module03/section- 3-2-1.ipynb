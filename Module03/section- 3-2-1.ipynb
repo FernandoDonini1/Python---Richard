{
 "cells": [
  {
   "cell_type": "markdown",
   "metadata": {},
   "source": [
    "# Loops\n",
    "### While"
   ]
  },
  {
   "cell_type": "code",
   "execution_count": null,
   "metadata": {},
   "outputs": [],
   "source": [
    "#Infinite loop example\n",
    "\n",
    "while True: #Condition\n",
    "    print(\"Infinite loop...\")\n",
    "    break"
   ]
  },
  {
   "cell_type": "code",
   "execution_count": null,
   "metadata": {},
   "outputs": [],
   "source": [
    "# Testing largest number\n",
    "# User will type values until value be -1\n",
    "largest = -9999999999999\n",
    "user = int(input(\"Your value (-1 to stop): \"))\n",
    "\n",
    "while user != -1:\n",
    "    if user > largest:\n",
    "        largest = user\n",
    "    user = int(input(\"Your value (-1 to stop): \"))\n",
    "if largest > -9999999999999:\n",
    "    print(\"largest value typed: \",largest)\n",
    "else:\n",
    "    print(\"None value typed!\")\n",
    "print(\"End of loop!\")"
   ]
  },
  {
   "cell_type": "code",
   "execution_count": null,
   "metadata": {},
   "outputs": [],
   "source": [
    "# If -1 end of loop\n",
    "# Count how many even and how many odd\n",
    "even, odd = 0, 0\n",
    "number = int(input(\"Number: \" ))\n",
    "\n",
    "while number != -1:\n",
    "    if number % 2 == 0:\n",
    "        even += 1\n",
    "    else:\n",
    "        odd += 1\n",
    "    number = int(input(\"Number: \" ))\n",
    "\n",
    "print(\"Even:\",even)\n",
    "print(\"Odd\",odd)"
   ]
  },
  {
   "cell_type": "code",
   "execution_count": null,
   "metadata": {},
   "outputs": [],
   "source": [
    "counter = 0\n",
    "while counter < 10:\n",
    "    print (counter)\n",
    "    counter += 1\n",
    "print(\"End of program\")\n"
   ]
  },
  {
   "cell_type": "markdown",
   "metadata": {},
   "source": [
    "### For"
   ]
  },
  {
   "cell_type": "code",
   "execution_count": null,
   "metadata": {},
   "outputs": [],
   "source": [
    "for counter in range (10):\n",
    "    print(counter)\n",
    "print(\"End of program\")"
   ]
  },
  {
   "cell_type": "code",
   "execution_count": null,
   "metadata": {},
   "outputs": [],
   "source": [
    "#Another range example\n",
    "for counter in range (1,10):\n",
    "    print(counter)\n",
    "print(\"End of program\")\n",
    "\n",
    "#Determining the interval\n",
    "for counter in range (1,100,10):\n",
    "    print(counter)\n",
    "print(\"End of second program\")"
   ]
  },
  {
   "cell_type": "code",
   "execution_count": null,
   "metadata": {},
   "outputs": [],
   "source": [
    "#Another example\n",
    "for counter in range (1,1):\n",
    "    print(counter)\n",
    "print(\"End of program\")"
   ]
  },
  {
   "cell_type": "code",
   "execution_count": null,
   "metadata": {},
   "outputs": [],
   "source": [
    "counter = 9\n",
    "\n",
    "for counter in range(1,1):\n",
    "    print(counter)\n",
    "print(\"Counter:\", counter)"
   ]
  },
  {
   "cell_type": "code",
   "execution_count": null,
   "metadata": {},
   "outputs": [],
   "source": [
    "#Challenge\n",
    "\n",
    "for counter in range (10,0,-1): #Print 10 to 1\n",
    "    print(counter)\n",
    "print(\"End of program\")"
   ]
  },
  {
   "cell_type": "code",
   "execution_count": null,
   "metadata": {},
   "outputs": [],
   "source": [
    "# Lab 3.2.7\n",
    "\n",
    "import time\n",
    "\n",
    "for i in range (1,6):\n",
    "    print(i,\"Mississippi\")\n",
    "    time.sleep(1)\n",
    "print(\"Ready or not, here i come!\")"
   ]
  },
  {
   "cell_type": "markdown",
   "metadata": {},
   "source": [
    "### Break and Continue"
   ]
  },
  {
   "cell_type": "code",
   "execution_count": null,
   "metadata": {},
   "outputs": [],
   "source": [
    "counter = 0\n",
    "while counter < 10:\n",
    "    print(counter)\n",
    "    counter += 1\n",
    "    if counter == 3:\n",
    "        break\n",
    "print(\"End of program\")"
   ]
  },
  {
   "cell_type": "code",
   "execution_count": null,
   "metadata": {},
   "outputs": [],
   "source": [
    "counter = 0\n",
    "while counter < 10:\n",
    "    counter += 1\n",
    "    if counter == 3:\n",
    "        continue\n",
    "    print(counter)\n",
    "print(\"End of program\")"
   ]
  },
  {
   "cell_type": "code",
   "execution_count": 32,
   "metadata": {},
   "outputs": [
    {
     "name": "stdout",
     "output_type": "stream",
     "text": [
      "u-n-i-v-e-r-s-e-\n",
      "End of program\n"
     ]
    }
   ],
   "source": [
    "# Another for example\n",
    "word = \"universe\"\n",
    "for letter in word:\n",
    "    print(letter,end=\"-\")\n",
    "print(\"\\nEnd of program\")"
   ]
  },
  {
   "cell_type": "code",
   "execution_count": 34,
   "metadata": {},
   "outputs": [
    {
     "name": "stdout",
     "output_type": "stream",
     "text": [
      "\n"
     ]
    }
   ],
   "source": [
    "# Reversing word\n",
    "word = \"medicine\"\n",
    "inv_word = \"\"\n",
    "for letter in word:\n",
    "    int_word = letter + inv_word\n",
    "print(inv_word)"
   ]
  }
 ],
 "metadata": {
  "kernelspec": {
   "display_name": ".venv",
   "language": "python",
   "name": "python3"
  },
  "language_info": {
   "codemirror_mode": {
    "name": "ipython",
    "version": 3
   },
   "file_extension": ".py",
   "mimetype": "text/x-python",
   "name": "python",
   "nbconvert_exporter": "python",
   "pygments_lexer": "ipython3",
   "version": "3.13.2"
  }
 },
 "nbformat": 4,
 "nbformat_minor": 2
}
