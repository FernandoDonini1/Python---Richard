{
 "cells": [
  {
   "cell_type": "markdown",
   "metadata": {},
   "source": [
    "# 3.4 Lists "
   ]
  },
  {
   "cell_type": "code",
   "execution_count": null,
   "metadata": {},
   "outputs": [],
   "source": [
    "# Representing a list   \n",
    "list = [1,2,3,4,5,6]\n",
    "print(list[2])\n",
    "list[2] = 9 #Changing item in position 2\n",
    "print(list)\n",
    "print(len(list)) #Return the list size"
   ]
  },
  {
   "cell_type": "markdown",
   "metadata": {},
   "source": [
    "#### Removing elements"
   ]
  },
  {
   "cell_type": "code",
   "execution_count": null,
   "metadata": {},
   "outputs": [],
   "source": [
    "list = [1,2,3,4,5]\n",
    "print(list)\n",
    "del list[4]\n",
    "print(list)\n",
    "print (len(list))"
   ]
  },
  {
   "cell_type": "markdown",
   "metadata": {},
   "source": [
    "#### Accessing elements with negative content"
   ]
  },
  {
   "cell_type": "code",
   "execution_count": null,
   "metadata": {},
   "outputs": [],
   "source": [
    "list = [1,2,3,4,5,6,7,8,9]\n",
    "print (list[-1])\n",
    "print (list[-9])"
   ]
  },
  {
   "cell_type": "markdown",
   "metadata": {},
   "source": [
    "#### Functions X Methods\n",
    "\n",
    "##### Functions: len(), min(), max(), print()\n",
    "##### Method is a little different: object.method()"
   ]
  },
  {
   "cell_type": "code",
   "execution_count": null,
   "metadata": {},
   "outputs": [],
   "source": [
    "# Method examples: \n",
    "list = [1,2,3,4,5]\n",
    "list.append (6) #<- This add the number 6 on the end of the list\n",
    "print(list)\n",
    "\n",
    "#print(dir(list)) #Show all the list properties\n",
    "\n",
    "list.insert (5, 10) #<- This add number 10 on indice 5\n",
    "print (list)"
   ]
  },
  {
   "cell_type": "markdown",
   "metadata": {},
   "source": [
    "#### Using for in lists"
   ]
  },
  {
   "cell_type": "code",
   "execution_count": null,
   "metadata": {},
   "outputs": [],
   "source": [
    "list = [1,2,3,4,5]\n",
    "for i in range(len(list)):\n",
    "    print(list[i])\n",
    "print(\"End of code\")"
   ]
  },
  {
   "cell_type": "code",
   "execution_count": null,
   "metadata": {},
   "outputs": [],
   "source": [
    "list = [1,2,3,4,5]\n",
    "for i in list:\n",
    "    print(\"Value: \",i)\n",
    "print(\"End of code\")"
   ]
  },
  {
   "cell_type": "code",
   "execution_count": null,
   "metadata": {},
   "outputs": [],
   "source": [
    "# Exchange of elements\n",
    "list = [1,2,3,4,5,6,7,8,9,10,11,12,13,14,15]\n",
    "for i in range (len(list)//2):\n",
    "    list [i],list [~i] = list [~i],list [i]\n",
    "print (list)\n"
   ]
  },
  {
   "cell_type": "code",
   "execution_count": null,
   "metadata": {},
   "outputs": [],
   "source": [
    "list = [1,2.5,\"Hello\",[1,2,3],[1,[2,3]],True]\n",
    "print(list[3][2])\n",
    "print(list[4][1][1])"
   ]
  }
 ],
 "metadata": {
  "language_info": {
   "name": "python"
  }
 },
 "nbformat": 4,
 "nbformat_minor": 2
}
