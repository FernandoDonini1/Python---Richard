{
 "cells": [
  {
   "cell_type": "markdown",
   "metadata": {},
   "source": [
    "# 3.3 Logic and bit operators in Python\n",
    "### Logic operators and, or and not\n",
    "\n",
    "| A | B | A and B | A or B | not A |\n",
    "|:-:|:-:|:-:|:-:|:-:|\n",
    "| True | True | True | True | False |\n",
    "| True | False | False | True | False |\n",
    "| False | True | False | True | True |\n",
    "| False | False | False | False | True |"
   ]
  },
  {
   "cell_type": "code",
   "execution_count": null,
   "metadata": {},
   "outputs": [],
   "source": [
    "age = 19\n",
    "if age >= 18 and age <= 60:\n",
    "    print(\"Can drive without restrictions\")\n",
    "age = 10\n",
    "while age <18 or age >60:\n",
    "    age = int(input(\"Type one age between 18 and 60: 5\"))\n",
    "    if age <18 or age>60: print (\"Invalid age!\")\n",
    "    if not(age >= 18 and age <= 60): print ((\"Invalid age!\"))\n"
   ]
  },
  {
   "cell_type": "code",
   "execution_count": null,
   "metadata": {},
   "outputs": [],
   "source": [
    "age = int(input(\"Your age: \"))\n",
    "if not age:\n",
    "    print(\"Invalid age!\")"
   ]
  },
  {
   "cell_type": "markdown",
   "metadata": {},
   "source": [
    "### Bit operators\n",
    "#### Conjunction operator (&) or and bit-to-bit"
   ]
  },
  {
   "cell_type": "code",
   "execution_count": null,
   "metadata": {},
   "outputs": [],
   "source": [
    "#2 & 3 = 2\n",
    "#2 10 &\n",
    "#3 11 \n",
    "#----\n",
    "#2 10"
   ]
  },
  {
   "cell_type": "code",
   "execution_count": null,
   "metadata": {},
   "outputs": [],
   "source": [
    "a = 5\n",
    "b = 7\n",
    "print(a,f\"{a:04b}\")\n",
    "print(b,f\"{b:04b}\",\"&\")\n",
    "print(\"-\"*7)\n",
    "print(a&b,f\"{(a&b):04b}\")"
   ]
  },
  {
   "cell_type": "markdown",
   "metadata": {},
   "source": [
    "#### Disjunction operator ( | ) or or  bit-to-bit "
   ]
  },
  {
   "cell_type": "code",
   "execution_count": null,
   "metadata": {},
   "outputs": [],
   "source": [
    "#5 0101\n",
    "#7 0111\n",
    "#------\n",
    "#7 0111"
   ]
  },
  {
   "cell_type": "code",
   "execution_count": null,
   "metadata": {},
   "outputs": [],
   "source": [
    "a = 5\n",
    "b = 7\n",
    "print(a,f\"{a:04b}\")\n",
    "print(b,f\"{b:04b}\",\"|\")\n",
    "print(\"-\"*7)\n",
    "print(a|b,f\"{(a|b):04b}\")"
   ]
  },
  {
   "cell_type": "markdown",
   "metadata": {},
   "source": [
    "#### xor operator ( ^ ) or exclusive or bit-to-bit"
   ]
  },
  {
   "cell_type": "code",
   "execution_count": null,
   "metadata": {},
   "outputs": [],
   "source": [
    "#5 0101\n",
    "#7 0111\n",
    "#------\n",
    "#2 0010"
   ]
  },
  {
   "cell_type": "code",
   "execution_count": null,
   "metadata": {},
   "outputs": [],
   "source": [
    "a = 5\n",
    "b = 7\n",
    "print(a,f\"{a:04b}\")\n",
    "print(b,f\"{b:04b}\",\"^\")\n",
    "print(\"-\"*7)\n",
    "print(a^b,f\"{(a^b):04b}\")"
   ]
  },
  {
   "cell_type": "markdown",
   "metadata": {},
   "source": [
    "#### complementing ( ~ )"
   ]
  },
  {
   "cell_type": "code",
   "execution_count": null,
   "metadata": {},
   "outputs": [],
   "source": [
    "#~5 = -6\n",
    "\n",
    "print(~5)"
   ]
  },
  {
   "cell_type": "markdown",
   "metadata": {},
   "source": [
    "#### Bit shift for left ( << )"
   ]
  },
  {
   "cell_type": "code",
   "execution_count": null,
   "metadata": {},
   "outputs": [],
   "source": [
    "# 1 << 2\n",
    "\n",
    "print(1<<2, f\"{(1<<2):04b}\")"
   ]
  },
  {
   "cell_type": "markdown",
   "metadata": {},
   "source": [
    "#### Bit shift for right (>>)"
   ]
  },
  {
   "cell_type": "code",
   "execution_count": null,
   "metadata": {},
   "outputs": [],
   "source": [
    "# 5 >> 2\n",
    "\n",
    "print(5>>2, f\"{(5>>2):04b}\")"
   ]
  },
  {
   "cell_type": "markdown",
   "metadata": {},
   "source": [
    "#### Updating the Priority list of operators\n",
    "| Seq | Operator | Description  \n",
    "| - | :-: | :-: |\n",
    "| 1 | ** | Exponenciation |\n",
    "| 2 | +,-,~ | Unarys and complement |\n",
    "| 3 | *,/,//,% | Multiplication, Divisors and Remains |\n",
    "| 4 | +, - | Addiction and subtraction |\n",
    "| 5 | <<, >> | Bits shift |\n",
    "| 6 | & | Conjunction |\n",
    "| 7 | \\| | Disjunction |\n",
    "| 8 | >,>=,<,<=, ==,!= | Grater, Grater or equal, Less, Less or equal, Equality and Inequality |\n",
    "| 9 | not | Denial operator |\n",
    "| 10 | and | And operator |\n",
    "| 11 | or | Or operator |\n",
    "| 12 | +=, -=, *=,... | Shortcut operators |\n"
   ]
  }
 ],
 "metadata": {
  "kernelspec": {
   "display_name": ".venv",
   "language": "python",
   "name": "python3"
  },
  "language_info": {
   "codemirror_mode": {
    "name": "ipython",
    "version": 3
   },
   "file_extension": ".py",
   "mimetype": "text/x-python",
   "name": "python",
   "nbconvert_exporter": "python",
   "pygments_lexer": "ipython3",
   "version": "3.13.2"
  }
 },
 "nbformat": 4,
 "nbformat_minor": 2
}
