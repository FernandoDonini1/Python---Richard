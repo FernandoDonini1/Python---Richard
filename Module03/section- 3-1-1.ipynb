{
 "cells": [
  {
   "cell_type": "markdown",
   "metadata": {},
   "source": [
    "# Making Decisions in Python\n",
    "## Relational operations\n",
    "### Equality operator (==)"
   ]
  },
  {
   "cell_type": "code",
   "execution_count": null,
   "metadata": {},
   "outputs": [],
   "source": [
    "print (1 == 2)\n",
    "print (1 == 1)\n",
    "print (2 == 0b10)"
   ]
  },
  {
   "cell_type": "markdown",
   "metadata": {},
   "source": [
    "### Inequality operator"
   ]
  },
  {
   "cell_type": "code",
   "execution_count": null,
   "metadata": {},
   "outputs": [],
   "source": [
    "print (1 != 2)\n",
    "print (1 != 1)\n",
    "print (1.0 != 1)"
   ]
  },
  {
   "cell_type": "markdown",
   "metadata": {},
   "source": [
    "### Greater than (>) and Greater or Equal to (>=) operator"
   ]
  },
  {
   "cell_type": "code",
   "execution_count": null,
   "metadata": {},
   "outputs": [],
   "source": [
    "print (1 > 0)\n",
    "print (1 >= 0)\n",
    "print (1 >= 2)"
   ]
  },
  {
   "cell_type": "markdown",
   "metadata": {},
   "source": [
    "### Less than (<) and Less or Equal to (<=) Operator"
   ]
  },
  {
   "cell_type": "code",
   "execution_count": null,
   "metadata": {},
   "outputs": [],
   "source": [
    "print (1 < 1)\n",
    "print (1 <= 0)\n",
    "print (1 <= 2)"
   ]
  },
  {
   "cell_type": "markdown",
   "metadata": {},
   "source": [
    "#### Updating the Priority list of operators\n",
    "| Seq | Operator | Description  \n",
    "| - | :-: | :-: |\n",
    "| 1 | ** | Exponenciation |\n",
    "| 2 | +,- | Unarys |\n",
    "| 3 | *,/,//,% | Multiplication, Divisors and Remains |\n",
    "| 4 | >,>=,<,<= | Grater, Grater or equal, Less, Less or equal |\n",
    "| 5 | ==,!= | Equality and Inequality |"
   ]
  },
  {
   "cell_type": "markdown",
   "metadata": {},
   "source": [
    "### if instruction\n"
   ]
  },
  {
   "cell_type": "code",
   "execution_count": null,
   "metadata": {},
   "outputs": [],
   "source": [
    "age = int(input(\"Your age: \"))\n",
    "\n",
    "if age >= 18:\n",
    "    print(\"You are of legal age\")\n",
    "    print(\"You can drive\")\n",
    "print(\"End of program\")"
   ]
  },
  {
   "cell_type": "markdown",
   "metadata": {},
   "source": [
    "### else instruction"
   ]
  },
  {
   "cell_type": "code",
   "execution_count": null,
   "metadata": {},
   "outputs": [],
   "source": [
    "age = int(input(\"Your age: \"))\n",
    "\n",
    "if age >= 18:\n",
    "    print(\"You are of legal age\")\n",
    "    print(\"You can drive\")\n",
    "else:\n",
    "    print(\"You aren´t of legal age\")\n",
    "    print(\"You can´t drive\")\n",
    "print(\"End of program\")"
   ]
  },
  {
   "cell_type": "markdown",
   "metadata": {},
   "source": [
    "### chained if"
   ]
  },
  {
   "cell_type": "code",
   "execution_count": null,
   "metadata": {},
   "outputs": [],
   "source": [
    "age = int(input(\"Your age: \"))\n",
    "\n",
    "if age >= 18:\n",
    "    print(\"You are of legal age\")\n",
    "    print(\"You can drive\")\n",
    "    if age >= 70:\n",
    "        print(\"You should do the anual medic exams\")\n",
    "    else:\n",
    "        if age >= 65:\n",
    "            print(\"You should do medic exams every two years\")\n",
    "\n",
    "else:\n",
    "    print(\"You aren´t of legal age\")\n",
    "    print(\"You can´t drive\")"
   ]
  },
  {
   "cell_type": "markdown",
   "metadata": {},
   "source": [
    "### elif instruction"
   ]
  },
  {
   "cell_type": "code",
   "execution_count": 12,
   "metadata": {},
   "outputs": [
    {
     "name": "stdout",
     "output_type": "stream",
     "text": [
      "You can´t drive\n"
     ]
    }
   ],
   "source": [
    "age = int(input(\"Your age: \"))\n",
    "if age >= 70:\n",
    "        print(\"You are of legal age, so you can drive\")\n",
    "        print(\"You should do the anual medic exams\")\n",
    "elif age >= 65:\n",
    "        print(\"You are of legal age\")\n",
    "        print(\"You can drive\")\n",
    "        print(\"You should do the medic exams every two years\")\n",
    "elif age >= 18:\n",
    "        print(\"You is or legal age\")\n",
    "        print(\"You can drive\")\n",
    "else:\n",
    "        print(\"You can´t drive\")\n",
    "    "
   ]
  },
  {
   "cell_type": "code",
   "execution_count": 13,
   "metadata": {},
   "outputs": [
    {
     "name": "stdout",
     "output_type": "stream",
     "text": [
      "The grater is:  20\n"
     ]
    }
   ],
   "source": [
    "# Getting the Grater number between two\n",
    "num1 = int(input(\"Number 1\"))\n",
    "num2 = int(input(\"Number 2\"))\n",
    "if num1 > num2:\n",
    "    grater = num1\n",
    "else:\n",
    "    grater = num2\n",
    "\n",
    "print(\"The grater is: \",grater)\n"
   ]
  },
  {
   "cell_type": "code",
   "execution_count": 14,
   "metadata": {},
   "outputs": [
    {
     "name": "stdout",
     "output_type": "stream",
     "text": [
      "The grater number is:  25\n"
     ]
    }
   ],
   "source": [
    "# Getting the Grater number between three\n",
    "num1 = int(input(\"Number1\"))\n",
    "num2 = int(input(\"Number2\"))\n",
    "num3 = int(input(\"Number3\"))\n",
    "grater = num1\n",
    "if num2 > grater:\n",
    "    grater = num2\n",
    "if num3 > grater:\n",
    "    grater = num3\n",
    "print(\"The grater number is: \",grater)"
   ]
  },
  {
   "cell_type": "code",
   "execution_count": null,
   "metadata": {},
   "outputs": [
    {
     "name": "stdout",
     "output_type": "stream",
     "text": [
      "Anna Is smallest or equal to Ana\n"
     ]
    }
   ],
   "source": [
    "# Using if with strings\n",
    "name = input(\"Name: \")\n",
    "name2 = input(\"Name 2:\")\n",
    "if name > name2:\n",
    "    print(name, \"Is largest than\",name2)\n",
    "else:\n",
    "    print(name2, \"Is larger or equal to\",name)"
   ]
  },
  {
   "cell_type": "code",
   "execution_count": 12,
   "metadata": {},
   "outputs": [
    {
     "name": "stdout",
     "output_type": "stream",
     "text": [
      "Spathiphyllum is the best plant ever!\n"
     ]
    }
   ],
   "source": [
    "#Lab 3.1.10\n",
    "\n",
    "word = input(\"Your flower: \")\n",
    "\n",
    "if word == \"Spathiphyllum\":\n",
    "    print(\"Spathiphyllum is the best plant ever!\")\n",
    "elif word == \"spathiphyllum\":\n",
    "    print(\"No, I want a big Spathiphyllum!\")\n",
    "else:\n",
    "    print(\"Spathiphyllum! Not \",word,\"!\",sep=\"\")\n"
   ]
  },
  {
   "cell_type": "code",
   "execution_count": 18,
   "metadata": {},
   "outputs": [
    {
     "name": "stdout",
     "output_type": "stream",
     "text": [
      "The tax is: 0 thalers\n"
     ]
    }
   ],
   "source": [
    "#Lab 3.1.11\n",
    "\n",
    "income = float(input(\"Your anual income: \"))\n",
    "\n",
    "if income < 85528:\n",
    "    tax = income * 0.18 - 556.02 \n",
    "elif income == 85528:\n",
    "    tax = 14839.02 \n",
    "else:\n",
    "    tax = 14839.02 + (income-85528)*0.32\n",
    "if tax < 0:\n",
    "    tax = 0\n",
    "tax = round(tax, 0)\n",
    "\n",
    "print(\"The tax is:\",tax,\"thalers\")"
   ]
  },
  {
   "cell_type": "code",
   "execution_count": 3,
   "metadata": {},
   "outputs": [
    {
     "name": "stdout",
     "output_type": "stream",
     "text": [
      "Leap year\n"
     ]
    }
   ],
   "source": [
    "# Lab 3.1.12\n",
    "\n",
    "year = int(input(\"Enter a year: \"))\n",
    "\n",
    "if year < 1582:\n",
    "\tprint(\"Not within the Gregorian calendar period\")\n",
    "else:\n",
    "\tif year % 4 != 0:\n",
    "\t\tprint(\"Common year\")\n",
    "\telif year % 100 != 0:\n",
    "\t\tprint(\"Leap year\")\n",
    "\telif year % 400 != 0:\n",
    "\t\tprint(\"Common year\")\n",
    "\telse:\n",
    "\t\tprint(\"Leap year\")"
   ]
  },
  {
   "cell_type": "code",
   "execution_count": null,
   "metadata": {},
   "outputs": [],
   "source": [
    "#Switching variable values\n",
    "a, b = b, a"
   ]
  }
 ],
 "metadata": {
  "kernelspec": {
   "display_name": ".venv",
   "language": "python",
   "name": "python3"
  },
  "language_info": {
   "codemirror_mode": {
    "name": "ipython",
    "version": 3
   },
   "file_extension": ".py",
   "mimetype": "text/x-python",
   "name": "python",
   "nbconvert_exporter": "python",
   "pygments_lexer": "ipython3",
   "version": "3.13.2"
  }
 },
 "nbformat": 4,
 "nbformat_minor": 2
}
