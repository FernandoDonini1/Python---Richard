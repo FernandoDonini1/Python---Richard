{
 "cells": [
  {
   "cell_type": "markdown",
   "metadata": {},
   "source": [
    "# Making Decisions in Python\n",
    "## Relational operations\n",
    "### Equality operator (==)"
   ]
  },
  {
   "cell_type": "code",
   "execution_count": null,
   "metadata": {},
   "outputs": [],
   "source": [
    "print (1 == 2)\n",
    "print (1 == 1)\n",
    "print (2 == 0b10)"
   ]
  },
  {
   "cell_type": "markdown",
   "metadata": {},
   "source": [
    "### Inequality operator"
   ]
  },
  {
   "cell_type": "code",
   "execution_count": null,
   "metadata": {},
   "outputs": [],
   "source": [
    "print (1 != 2)\n",
    "print (1 != 1)\n",
    "print (1.0 != 1)"
   ]
  },
  {
   "cell_type": "markdown",
   "metadata": {},
   "source": [
    "### Greater than (>) and Greater or Equal to (>=) operator"
   ]
  },
  {
   "cell_type": "code",
   "execution_count": null,
   "metadata": {},
   "outputs": [],
   "source": [
    "print (1 > 0)\n",
    "print (1 >= 0)\n",
    "print (1 >= 2)"
   ]
  },
  {
   "cell_type": "markdown",
   "metadata": {},
   "source": [
    "### Less than (<) and Less or Equal to (<=) Operator"
   ]
  },
  {
   "cell_type": "code",
   "execution_count": null,
   "metadata": {},
   "outputs": [],
   "source": [
    "print (1 < 1)\n",
    "print (1 <= 0)\n",
    "print (1 <= 2)"
   ]
  },
  {
   "cell_type": "markdown",
   "metadata": {},
   "source": [
    "#### Updating the Priority list of operators\n",
    "| Seq | Operator | Description  \n",
    "| - | :-: | :-: |\n",
    "| 1 | ** | Exponenciation |\n",
    "| 2 | +,- | Unarys |\n",
    "| 3 | *,/,//,% | Multiplication, Divisors and Remains |\n",
    "| 4 | >,>=,<,<= | Grater, Grater or equal, Less, Less or equal |\n",
    "| 5 | ==,!= | Equality and Inequality |"
   ]
  },
  {
   "cell_type": "markdown",
   "metadata": {},
   "source": [
    "### if instruction\n"
   ]
  },
  {
   "cell_type": "code",
   "execution_count": null,
   "metadata": {},
   "outputs": [],
   "source": [
    "age = int(input(\"Your age: \"))\n",
    "\n",
    "if age >= 18:\n",
    "    print(\"You are of legal age\")\n",
    "    print(\"You can drive\")\n",
    "print(\"End of program\")"
   ]
  },
  {
   "cell_type": "markdown",
   "metadata": {},
   "source": [
    "### else instruction"
   ]
  },
  {
   "cell_type": "code",
   "execution_count": null,
   "metadata": {},
   "outputs": [],
   "source": [
    "age = int(input(\"Your age: \"))\n",
    "\n",
    "if age >= 18:\n",
    "    print(\"You are of legal age\")\n",
    "    print(\"You can drive\")\n",
    "else:\n",
    "    print(\"You aren´t of legal age\")\n",
    "    print(\"You can´t drive\")\n",
    "print(\"End of program\")"
   ]
  },
  {
   "cell_type": "markdown",
   "metadata": {},
   "source": [
    "### chained if"
   ]
  },
  {
   "cell_type": "code",
   "execution_count": null,
   "metadata": {},
   "outputs": [],
   "source": [
    "age = int(input(\"Your age: \"))\n",
    "\n",
    "if age >= 18:\n",
    "    print(\"You are of legal age\")\n",
    "    print(\"You can drive\")\n",
    "    if age >= 70:\n",
    "        print(\"You should do the anual medic exams\")\n",
    "    else:\n",
    "        if age >= 65:\n",
    "            print(\"You should do medic exams every two years\")\n",
    "\n",
    "else:\n",
    "    print(\"You aren´t of legal age\")\n",
    "    print(\"You can´t drive\")"
   ]
  },
  {
   "cell_type": "markdown",
   "metadata": {},
   "source": [
    "### elif instruction"
   ]
  },
  {
   "cell_type": "code",
   "execution_count": 12,
   "metadata": {},
   "outputs": [
    {
     "name": "stdout",
     "output_type": "stream",
     "text": [
      "You can´t drive\n"
     ]
    }
   ],
   "source": [
    "age = int(input(\"Your age: \"))\n",
    "if age >= 70:\n",
    "        print(\"You are of legal age, so you can drive\")\n",
    "        print(\"You should do the anual medic exams\")\n",
    "elif age >= 65:\n",
    "        print(\"You are of legal age\")\n",
    "        print(\"You can drive\")\n",
    "        print(\"You should do the medic exams every two years\")\n",
    "elif age >= 18:\n",
    "        print(\"You is or legal age\")\n",
    "        print(\"You can drive\")\n",
    "else:\n",
    "        print(\"You can´t drive\")\n",
    "    "
   ]
  },
  {
   "cell_type": "code",
   "execution_count": 13,
   "metadata": {},
   "outputs": [
    {
     "name": "stdout",
     "output_type": "stream",
     "text": [
      "The grater is:  20\n"
     ]
    }
   ],
   "source": [
    "# Getting the Grater number between two\n",
    "num1 = int(input(\"Number 1\"))\n",
    "num2 = int(input(\"Number 2\"))\n",
    "if num1 > num2:\n",
    "    grater = num1\n",
    "else:\n",
    "    grater = num2\n",
    "\n",
    "print(\"The grater is: \",grater)\n"
   ]
  },
  {
   "cell_type": "code",
   "execution_count": 14,
   "metadata": {},
   "outputs": [
    {
     "name": "stdout",
     "output_type": "stream",
     "text": [
      "The grater number is:  25\n"
     ]
    }
   ],
   "source": [
    "# Getting the Grater number between three\n",
    "num1 = int(input(\"Number1\"))\n",
    "num2 = int(input(\"Number2\"))\n",
    "num3 = int(input(\"Number3\"))\n",
    "grater = num1\n",
    "if num2 > grater:\n",
    "    grater = num2\n",
    "if num3 > grater:\n",
    "    grater = num3\n",
    "print(\"The grater number is: \",grater)"
   ]
  }
 ],
 "metadata": {
  "kernelspec": {
   "display_name": ".venv",
   "language": "python",
   "name": "python3"
  },
  "language_info": {
   "codemirror_mode": {
    "name": "ipython",
    "version": 3
   },
   "file_extension": ".py",
   "mimetype": "text/x-python",
   "name": "python",
   "nbconvert_exporter": "python",
   "pygments_lexer": "ipython3",
   "version": "3.13.2"
  }
 },
 "nbformat": 4,
 "nbformat_minor": 2
}
