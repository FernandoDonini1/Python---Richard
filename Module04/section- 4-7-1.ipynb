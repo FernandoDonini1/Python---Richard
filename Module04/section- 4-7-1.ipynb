{
 "cells": [
  {
   "cell_type": "markdown",
   "metadata": {},
   "source": [
    "# 4.7.1 - Exceptions\n",
    "Troubleshooting"
   ]
  },
  {
   "cell_type": "code",
   "execution_count": 3,
   "metadata": {},
   "outputs": [
    {
     "name": "stdout",
     "output_type": "stream",
     "text": [
      "An error ocurred!\n",
      "End of program!\n"
     ]
    }
   ],
   "source": [
    "# Code execution error example\n",
    "try:\n",
    "    value = int(input(\"Your value: \"))\n",
    "    print(\"Value: \",1/value)\n",
    "except:\n",
    "    print(\"An error ocurred!\")\n",
    "print(\"End of program!\")"
   ]
  },
  {
   "cell_type": "code",
   "execution_count": 22,
   "metadata": {},
   "outputs": [
    {
     "name": "stdout",
     "output_type": "stream",
     "text": [
      "Value:  0.2\n",
      "Error:  list index out of range\n",
      "End of program\n"
     ]
    }
   ],
   "source": [
    "#Specifying error\n",
    "try:\n",
    "    value = int(input(\"You value: \"))\n",
    "    print(\"Value: \",1/value)\n",
    "    list = [1,2,3]\n",
    "    print(list[5])\n",
    "except ValueError:\n",
    "    print(\"Only numbers!\")\n",
    "except ZeroDivisionError:\n",
    "    print(\"Zero isn´t acceptable!\")\n",
    "except Exception as e:\n",
    "    print(\"Error: \", e)\n",
    "print(\"End of program\")"
   ]
  }
 ],
 "metadata": {
  "kernelspec": {
   "display_name": ".venv",
   "language": "python",
   "name": "python3"
  },
  "language_info": {
   "codemirror_mode": {
    "name": "ipython",
    "version": 3
   },
   "file_extension": ".py",
   "mimetype": "text/x-python",
   "name": "python",
   "nbconvert_exporter": "python",
   "pygments_lexer": "ipython3",
   "version": "3.13.2"
  }
 },
 "nbformat": 4,
 "nbformat_minor": 2
}
