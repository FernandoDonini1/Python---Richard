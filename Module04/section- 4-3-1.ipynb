{
 "cells": [
  {
   "cell_type": "markdown",
   "metadata": {},
   "source": [
    "# 4.6.1 Tuples and dictionaries"
   ]
  },
  {
   "cell_type": "code",
   "execution_count": null,
   "metadata": {},
   "outputs": [],
   "source": [
    "#Tuples\n",
    "tuple = ()\n",
    "#Defining a tuple with two elements\n",
    "tuple_v1 = (1,2)\n",
    "tuple_v2 = 1,2\n",
    "print(tuple, tuple_v1, tuple_v2)\n",
    "#Defining tuple with one element\n",
    "tuple_v3 = 1,\n",
    "print(tuple_v3)"
   ]
  },
  {
   "cell_type": "code",
   "execution_count": null,
   "metadata": {},
   "outputs": [],
   "source": [
    "#Operations with tuples\n",
    "#tuple = (1,2,3,4,5)\n",
    "#tuple.append (5) #This can´t happen\n",
    "#tuple.insert (1,6) #This can´t too\n",
    "#del tuple[2] #This as well\n",
    "#tuple[4] #This can´t too\n",
    "tuple = tuple + (6,7,8) #This is permitted\n",
    "print (tuple)\n",
    "print(tuple[1:-1]) #Sliceling is possilbe\n",
    "print(6 in tuple) #This can\n",
    "print(5 not in tuple) #This too"
   ]
  },
  {
   "cell_type": "markdown",
   "metadata": {},
   "source": [
    "### Dictionary"
   ]
  },
  {
   "cell_type": "code",
   "execution_count": 8,
   "metadata": {},
   "outputs": [
    {
     "name": "stdout",
     "output_type": "stream",
     "text": [
      "Fernando Donini\n",
      "{'name': 'Fernando Donini', 'Address': 'Street of street, 15', 'tel': '12345678900'}\n",
      "3\n",
      "True\n",
      "dict_keys(['name', 'Address', 'tel'])\n",
      "dict_values(['Fernando Donini', 'Street of street, 15', '12345678900'])\n",
      "dict_items([('name', 'Fernando Donini'), ('Address', 'Street of street, 15'), ('tel', '12345678900')])\n",
      "name, Address, tel, \n",
      "Fernando Donini, Street of street, 15, 12345678900, \n",
      "12345678900, 12345678900, 12345678900, "
     ]
    }
   ],
   "source": [
    "dic = {\"name\": \"Fernando Donini\", \"Address\": \"Street of street, 15\"}\n",
    "print(dic[\"name\"])\n",
    "dic[\"tel\"] = \"12345678900\"\n",
    "print(dic)\n",
    "print(len(dic))\n",
    "print(\"tel\" in dic)\n",
    "print(dic.keys())\n",
    "print(dic.values())\n",
    "print(dic.items())\n",
    "for el in dic.keys(): print(el,end=\", \")\n",
    "print()\n",
    "for el in dic.values(): print(el,end=\", \")\n",
    "print()\n",
    "for ch,vl in dic.items(): print(el,end=\", \")"
   ]
  },
  {
   "cell_type": "code",
   "execution_count": 9,
   "metadata": {},
   "outputs": [
    {
     "name": "stdout",
     "output_type": "stream",
     "text": [
      "{'name': 'Fernando Donini', 'Address': 'Street of street, 15'}\n"
     ]
    }
   ],
   "source": [
    "del dic[\"tel\"]\n",
    "print(dic)"
   ]
  }
 ],
 "metadata": {
  "kernelspec": {
   "display_name": ".venv",
   "language": "python",
   "name": "python3"
  },
  "language_info": {
   "codemirror_mode": {
    "name": "ipython",
    "version": 3
   },
   "file_extension": ".py",
   "mimetype": "text/x-python",
   "name": "python",
   "nbconvert_exporter": "python",
   "pygments_lexer": "ipython3",
   "version": "3.13.2"
  }
 },
 "nbformat": 4,
 "nbformat_minor": 2
}
